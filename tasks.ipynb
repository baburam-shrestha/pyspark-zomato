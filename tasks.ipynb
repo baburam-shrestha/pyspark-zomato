{
 "cells": [
  {
   "cell_type": "code",
   "execution_count": 150,
   "metadata": {},
   "outputs": [],
   "source": [
    "import pyspark\n",
    "from pyspark.sql import SparkSession\n",
    "\n",
    "from pyspark.sql.functions import udf,col\n",
    "from pyspark.sql.types import StringType\n",
    "from pyspark.sql.functions import desc\n",
    "from pyspark.sql.functions import monotonically_increasing_id"
   ]
  },
  {
   "cell_type": "code",
   "execution_count": 2,
   "metadata": {},
   "outputs": [
    {
     "name": "stdout",
     "output_type": "stream",
     "text": [
      "22/11/03 07:41:43 WARN Utils: Your hostname, 1011000011101110 resolves to a loopback address: 127.0.1.1; using 192.168.1.69 instead (on interface wlp3s0)\n",
      "22/11/03 07:41:43 WARN Utils: Set SPARK_LOCAL_IP if you need to bind to another address\n"
     ]
    },
    {
     "name": "stderr",
     "output_type": "stream",
     "text": [
      "Setting default log level to \"WARN\".\n",
      "To adjust logging level use sc.setLogLevel(newLevel). For SparkR, use setLogLevel(newLevel).\n"
     ]
    },
    {
     "name": "stdout",
     "output_type": "stream",
     "text": [
      "22/11/03 07:41:44 WARN NativeCodeLoader: Unable to load native-hadoop library for your platform... using builtin-java classes where applicable\n"
     ]
    }
   ],
   "source": [
    "spark = SparkSession.builder.appName(\"Apache PySpark Final Project-Zomato\").getOrCreate()"
   ]
  },
  {
   "cell_type": "code",
   "execution_count": 19,
   "metadata": {},
   "outputs": [],
   "source": [
    "zomato_df = spark.read.csv('data/cleaned_zomato.csv',inferSchema=True,header=True)"
   ]
  },
  {
   "cell_type": "code",
   "execution_count": 20,
   "metadata": {},
   "outputs": [
    {
     "data": {
      "text/plain": [
       "['name',\n",
       " 'online_order',\n",
       " 'book_table',\n",
       " 'rating',\n",
       " 'votes',\n",
       " 'phone',\n",
       " 'location',\n",
       " 'type',\n",
       " 'dish_liked',\n",
       " 'cuisines',\n",
       " 'approx_cost_two_people']"
      ]
     },
     "execution_count": 20,
     "metadata": {},
     "output_type": "execute_result"
    }
   ],
   "source": [
    "zomato_df.columns"
   ]
  },
  {
   "cell_type": "markdown",
   "metadata": {},
   "source": [
    "# task 1: convert \"NEW\" in rating to \"0/5\""
   ]
  },
  {
   "cell_type": "code",
   "execution_count": 21,
   "metadata": {},
   "outputs": [],
   "source": [
    "def convert(strr):\n",
    "    if(strr == 'NEW'):\n",
    "        return '0/5'\n",
    "    else:\n",
    "        return strr\n"
   ]
  },
  {
   "cell_type": "code",
   "execution_count": 22,
   "metadata": {},
   "outputs": [],
   "source": [
    "convertUDF = udf(lambda string : convert(string),StringType())"
   ]
  },
  {
   "cell_type": "code",
   "execution_count": 23,
   "metadata": {},
   "outputs": [],
   "source": [
    "zomato_df = zomato_df.withColumn(\"rating\", convertUDF(col('rating')))"
   ]
  },
  {
   "cell_type": "code",
   "execution_count": 24,
   "metadata": {},
   "outputs": [],
   "source": [
    "zomato_df.toPandas().to_csv('data/cleaned_zomato_rate.csv',index= False)"
   ]
  },
  {
   "cell_type": "code",
   "execution_count": null,
   "metadata": {},
   "outputs": [],
   "source": []
  },
  {
   "cell_type": "code",
   "execution_count": 26,
   "metadata": {},
   "outputs": [
    {
     "name": "stdout",
     "output_type": "stream",
     "text": [
      "+--------------------+------------+----------+------+-----+--------------+------------+-------------------+--------------------+--------------------+----------------------+\n",
      "|                name|online_order|book_table|rating|votes|         phone|    location|               type|          dish_liked|            cuisines|approx_cost_two_people|\n",
      "+--------------------+------------+----------+------+-----+--------------+------------+-------------------+--------------------+--------------------+----------------------+\n",
      "|      Spice Elephant|         Yes|        No| 4.1/5|  787|  080 41714161|Banashankari|      Casual Dining|Momos, Lunch Buff...|Chinese, North In...|                   800|\n",
      "|     San Churro Cafe|         Yes|        No| 3.8/5|  918|+91 9663487993|Banashankari|Cafe, Casual Dining|Churros, Cannello...|Cafe, Mexican, It...|                   800|\n",
      "|Addhuri Udupi Bho...|          No|        No| 3.7/5|   88|+91 9620009302|Banashankari|        Quick Bites|         Masala Dosa|South Indian, Nor...|                   300|\n",
      "|        Cafe Shuffle|         Yes|       Yes| 4.2/5|  150|+91 9742166777|Banashankari|               Cafe|Mocktails, Peri F...|Cafe, Italian, Co...|                   600|\n",
      "|    The Coffee Shack|         Yes|       Yes| 4.2/5|  164|+91 9731644212|Banashankari|               Cafe|Coffee, Spaghetti...|Cafe, Chinese, Co...|                   500|\n",
      "+--------------------+------------+----------+------+-----+--------------+------------+-------------------+--------------------+--------------------+----------------------+\n",
      "only showing top 5 rows\n",
      "\n"
     ]
    }
   ],
   "source": [
    "zomato_df.show(5)"
   ]
  },
  {
   "cell_type": "code",
   "execution_count": null,
   "metadata": {},
   "outputs": [],
   "source": []
  },
  {
   "cell_type": "code",
   "execution_count": null,
   "metadata": {},
   "outputs": [],
   "source": []
  },
  {
   "cell_type": "markdown",
   "metadata": {},
   "source": [
    "# Task 2: Suggest where one can open a new restaurant"
   ]
  },
  {
   "cell_type": "code",
   "execution_count": 44,
   "metadata": {},
   "outputs": [],
   "source": [
    "city_res_count = zomato_df.groupBy('location').count()"
   ]
  },
  {
   "cell_type": "code",
   "execution_count": 45,
   "metadata": {},
   "outputs": [],
   "source": [
    "city_res_count = city_res_count.sort('count')"
   ]
  },
  {
   "cell_type": "code",
   "execution_count": 46,
   "metadata": {},
   "outputs": [
    {
     "name": "stdout",
     "output_type": "stream",
     "text": [
      "+--------------------+-----+\n",
      "|            location|count|\n",
      "+--------------------+-----+\n",
      "|         Uttarahalli|    1|\n",
      "|Rajarajeshwari Nagar|    1|\n",
      "|     Kanakapura Road|    1|\n",
      "|      West Bangalore|    2|\n",
      "|         Magadi Road|    2|\n",
      "|      Sadashiv Nagar|    3|\n",
      "|        Bommanahalli|    3|\n",
      "|           Jalahalli|    3|\n",
      "|   Central Bangalore|    3|\n",
      "|     North Bangalore|    3|\n",
      "|     Rammurthy Nagar|    4|\n",
      "|         City Market|    4|\n",
      "|            RT Nagar|    5|\n",
      "|            Majestic|    6|\n",
      "|        Sanjay Nagar|    8|\n",
      "|      East Bangalore|    8|\n",
      "|         Vijay Nagar|    8|\n",
      "|      Sahakara Nagar|    8|\n",
      "|          Hosur Road|    8|\n",
      "|          HBR Layout|    9|\n",
      "+--------------------+-----+\n",
      "only showing top 20 rows\n",
      "\n"
     ]
    }
   ],
   "source": [
    "city_res_count.show()"
   ]
  },
  {
   "cell_type": "code",
   "execution_count": 53,
   "metadata": {},
   "outputs": [],
   "source": [
    "min_count = city_res_count.collect()[0][1]"
   ]
  },
  {
   "cell_type": "code",
   "execution_count": 55,
   "metadata": {},
   "outputs": [
    {
     "name": "stdout",
     "output_type": "stream",
     "text": [
      "root\n",
      " |-- location: string (nullable = true)\n",
      " |-- count: long (nullable = false)\n",
      "\n"
     ]
    }
   ],
   "source": [
    "city_res_count.printSchema()"
   ]
  },
  {
   "cell_type": "code",
   "execution_count": 56,
   "metadata": {},
   "outputs": [
    {
     "data": {
      "text/plain": [
       "int"
      ]
     },
     "execution_count": 56,
     "metadata": {},
     "output_type": "execute_result"
    }
   ],
   "source": [
    "type(min_count)"
   ]
  },
  {
   "cell_type": "code",
   "execution_count": 81,
   "metadata": {},
   "outputs": [],
   "source": [
    "suggested_citis = city_res_count.filter(col('count') == min_count).select(col('location'))"
   ]
  },
  {
   "cell_type": "code",
   "execution_count": 87,
   "metadata": {},
   "outputs": [
    {
     "name": "stdout",
     "output_type": "stream",
     "text": [
      "+--------------------+\n",
      "|            location|\n",
      "+--------------------+\n",
      "|     Kanakapura Road|\n",
      "|Rajarajeshwari Nagar|\n",
      "|         Uttarahalli|\n",
      "+--------------------+\n",
      "\n"
     ]
    }
   ],
   "source": [
    "suggested_citis.show()"
   ]
  },
  {
   "cell_type": "code",
   "execution_count": null,
   "metadata": {},
   "outputs": [],
   "source": []
  },
  {
   "cell_type": "code",
   "execution_count": null,
   "metadata": {},
   "outputs": [],
   "source": []
  },
  {
   "cell_type": "markdown",
   "metadata": {},
   "source": [
    "# Task 3: Compare the restaurant to whether it has the facility of an “online order” or not."
   ]
  },
  {
   "cell_type": "code",
   "execution_count": 152,
   "metadata": {},
   "outputs": [],
   "source": [
    "having_online_order = zomato_df.filter(zomato_df.online_order == 'Yes').select(col('name'))\\\n",
    "                                .withColumnRenamed('name','having_online_order')\\\n",
    "                                .withColumn(\"serial_no\", monotonically_increasing_id())"
   ]
  },
  {
   "cell_type": "code",
   "execution_count": 153,
   "metadata": {},
   "outputs": [
    {
     "data": {
      "text/plain": [
       "7996"
      ]
     },
     "execution_count": 153,
     "metadata": {},
     "output_type": "execute_result"
    }
   ],
   "source": [
    "having_online_order.count()"
   ]
  },
  {
   "cell_type": "code",
   "execution_count": 154,
   "metadata": {},
   "outputs": [
    {
     "name": "stdout",
     "output_type": "stream",
     "text": [
      "+-------------------+---------+\n",
      "|having_online_order|serial_no|\n",
      "+-------------------+---------+\n",
      "|     Spice Elephant|        0|\n",
      "|    San Churro Cafe|        1|\n",
      "|       Cafe Shuffle|        2|\n",
      "|   The Coffee Shack|        3|\n",
      "|    San Churro Cafe|        4|\n",
      "+-------------------+---------+\n",
      "only showing top 5 rows\n",
      "\n"
     ]
    }
   ],
   "source": [
    "having_online_order.show(5)"
   ]
  },
  {
   "cell_type": "code",
   "execution_count": 155,
   "metadata": {},
   "outputs": [],
   "source": [
    "not_having_online_order = zomato_df.filter(zomato_df.online_order == 'No').select(col('name'))\\\n",
    "                                    .withColumnRenamed('name','not_having_online_order')\\\n",
    "                                    .withColumn(\"serial_no\", monotonically_increasing_id())"
   ]
  },
  {
   "cell_type": "code",
   "execution_count": 156,
   "metadata": {},
   "outputs": [
    {
     "data": {
      "text/plain": [
       "3352"
      ]
     },
     "execution_count": 156,
     "metadata": {},
     "output_type": "execute_result"
    }
   ],
   "source": [
    "not_having_online_order.count()"
   ]
  },
  {
   "cell_type": "code",
   "execution_count": 157,
   "metadata": {},
   "outputs": [
    {
     "name": "stdout",
     "output_type": "stream",
     "text": [
      "+-----------------------+---------+\n",
      "|not_having_online_order|serial_no|\n",
      "+-----------------------+---------+\n",
      "|   Addhuri Udupi Bho...|        0|\n",
      "|             Caf-Eleven|        1|\n",
      "|               T3H Cafe|        2|\n",
      "|     Gustoes Beer House|        3|\n",
      "|       The Biryani Cafe|        4|\n",
      "+-----------------------+---------+\n",
      "only showing top 5 rows\n",
      "\n"
     ]
    }
   ],
   "source": [
    "not_having_online_order.show(5)"
   ]
  },
  {
   "cell_type": "code",
   "execution_count": 144,
   "metadata": {},
   "outputs": [
    {
     "data": {
      "text/plain": [
       "11348"
      ]
     },
     "execution_count": 144,
     "metadata": {},
     "output_type": "execute_result"
    }
   ],
   "source": [
    "having_online_order.count()+not_having_online_order.count()"
   ]
  },
  {
   "cell_type": "code",
   "execution_count": 100,
   "metadata": {},
   "outputs": [
    {
     "data": {
      "text/plain": [
       "11348"
      ]
     },
     "execution_count": 100,
     "metadata": {},
     "output_type": "execute_result"
    }
   ],
   "source": [
    "zomato_df.count()"
   ]
  },
  {
   "cell_type": "code",
   "execution_count": 133,
   "metadata": {},
   "outputs": [],
   "source": [
    "from pyspark.sql.functions import lit\n",
    "from pyspark.sql.functions import monotonically_increasing_id"
   ]
  },
  {
   "cell_type": "code",
   "execution_count": null,
   "metadata": {},
   "outputs": [],
   "source": []
  },
  {
   "cell_type": "code",
   "execution_count": 172,
   "metadata": {},
   "outputs": [],
   "source": [
    "having_and_not_having = having_online_order.join(not_having_online_order,having_online_order.serial_no == not_having_online_order.serial_no,'left')\\\n",
    "                        .select(col('having_online_order'),col('not_having_online_order'))"
   ]
  },
  {
   "cell_type": "code",
   "execution_count": 173,
   "metadata": {},
   "outputs": [
    {
     "data": {
      "text/plain": [
       "7996"
      ]
     },
     "execution_count": 173,
     "metadata": {},
     "output_type": "execute_result"
    }
   ],
   "source": [
    "having_and_not_having.count()"
   ]
  },
  {
   "cell_type": "code",
   "execution_count": 177,
   "metadata": {},
   "outputs": [
    {
     "name": "stdout",
     "output_type": "stream",
     "text": [
      "+--------------------+-----------------------+\n",
      "| having_online_order|not_having_online_order|\n",
      "+--------------------+-----------------------+\n",
      "|      Spice Elephant|   Addhuri Udupi Bho...|\n",
      "|     San Churro Cafe|             Caf-Eleven|\n",
      "|        Cafe Shuffle|               T3H Cafe|\n",
      "|    The Coffee Shack|     Gustoes Beer House|\n",
      "|     San Churro Cafe|       The Biryani Cafe|\n",
      "|        Woodee Pizza|           Chatar Patar|\n",
      "|           Redberrys|            Mane Thindi|\n",
      "|          Foodiction|                 Darbar|\n",
      "|     Ovenstory Pizza|            Kollapuri's|\n",
      "|              Faasos|   Harshi Super Sand...|\n",
      "|   Empire Restaurant|   Sri Venkateshwara...|\n",
      "|           Chaatimes|     Gustoes Beer House|\n",
      "|      Kitchen Garden|             Caf-Eleven|\n",
      "|           FreshMenu|               T3H Cafe|\n",
      "|            Goa 0 Km|   Iyer's Tiffin Centre|\n",
      "|         Kabab Magic|                 Darbar|\n",
      "|       Frozen Bottle|           Taaza Thindi|\n",
      "|       Meghana Foods|   Sri Laxmi Venkate...|\n",
      "|          Polar Bear|             Messy Bowl|\n",
      "|Bengaluru Coffee ...|       The Biryani Cafe|\n",
      "+--------------------+-----------------------+\n",
      "only showing top 20 rows\n",
      "\n"
     ]
    }
   ],
   "source": [
    "having_and_not_having.show()"
   ]
  },
  {
   "cell_type": "code",
   "execution_count": 176,
   "metadata": {},
   "outputs": [],
   "source": [
    "having_and_not_having.toPandas().to_csv('data/having_not_having_online.csv',index= False)"
   ]
  },
  {
   "cell_type": "code",
   "execution_count": null,
   "metadata": {},
   "outputs": [],
   "source": []
  },
  {
   "cell_type": "code",
   "execution_count": null,
   "metadata": {},
   "outputs": [],
   "source": []
  },
  {
   "cell_type": "code",
   "execution_count": null,
   "metadata": {},
   "outputs": [],
   "source": []
  },
  {
   "cell_type": "code",
   "execution_count": null,
   "metadata": {},
   "outputs": [],
   "source": []
  },
  {
   "cell_type": "markdown",
   "metadata": {},
   "source": [
    "# Task 4 : List the top ten restaurants with the highest number of branches."
   ]
  },
  {
   "cell_type": "code",
   "execution_count": 200,
   "metadata": {},
   "outputs": [],
   "source": [
    "top_ten_testutants = zomato_df.groupBy('name').count()"
   ]
  },
  {
   "cell_type": "code",
   "execution_count": 201,
   "metadata": {},
   "outputs": [],
   "source": [
    "top_ten_testutants = top_ten_testutants.sort(col('count').desc())"
   ]
  },
  {
   "cell_type": "code",
   "execution_count": 202,
   "metadata": {},
   "outputs": [],
   "source": [
    "top_ten_testutants = top_ten_testutants.limit(10)"
   ]
  },
  {
   "cell_type": "code",
   "execution_count": 205,
   "metadata": {},
   "outputs": [
    {
     "name": "stdout",
     "output_type": "stream",
     "text": [
      "+-----------------+-----+\n",
      "|             name|count|\n",
      "+-----------------+-----+\n",
      "|Empire Restaurant|   66|\n",
      "|              KFC|   59|\n",
      "|           Faasos|   54|\n",
      "|       Polar Bear|   48|\n",
      "|       McDonald's|   45|\n",
      "|     Krispy Kreme|   39|\n",
      "|     Mudpipe Cafe|   39|\n",
      "|       Chai Point|   37|\n",
      "|           Onesta|   37|\n",
      "| Lakeview Milkbar|   36|\n",
      "+-----------------+-----+\n",
      "\n"
     ]
    }
   ],
   "source": [
    "top_ten_testutants.show()"
   ]
  },
  {
   "cell_type": "code",
   "execution_count": null,
   "metadata": {},
   "outputs": [],
   "source": []
  },
  {
   "cell_type": "code",
   "execution_count": null,
   "metadata": {},
   "outputs": [],
   "source": []
  },
  {
   "cell_type": "markdown",
   "metadata": {},
   "source": [
    "## Task 5: List restaurants that are either cafes or Quick Bites "
   ]
  },
  {
   "cell_type": "code",
   "execution_count": 208,
   "metadata": {},
   "outputs": [],
   "source": [
    "cafes_or_quick_bites = zomato_df.where(col('type').contains('cafe')\\\n",
    "                                       | col('type').contains('Cafe')\\\n",
    "                                       | col('type').contains('Quick Bites')\\\n",
    "                                       | col('type').contains('Quick bites')\\\n",
    "                                       | col('type').contains('quick bites')).select(col('name'),col('type'))"
   ]
  },
  {
   "cell_type": "code",
   "execution_count": 211,
   "metadata": {},
   "outputs": [],
   "source": [
    "cafes_or_quick_bites.toPandas().to_csv('data/cafe_ot_quick_bites.csv',index= False)"
   ]
  },
  {
   "cell_type": "code",
   "execution_count": 212,
   "metadata": {},
   "outputs": [
    {
     "name": "stdout",
     "output_type": "stream",
     "text": [
      "+--------------------+-------------------+\n",
      "|                name|               type|\n",
      "+--------------------+-------------------+\n",
      "|     San Churro Cafe|Cafe, Casual Dining|\n",
      "|Addhuri Udupi Bho...|        Quick Bites|\n",
      "|        Cafe Shuffle|               Cafe|\n",
      "|    The Coffee Shack|               Cafe|\n",
      "|          Caf-Eleven|               Cafe|\n",
      "|     San Churro Cafe|Cafe, Casual Dining|\n",
      "|            T3H Cafe|               Cafe|\n",
      "|        Woodee Pizza|               Cafe|\n",
      "|           Redberrys|               Cafe|\n",
      "|          Foodiction|        Quick Bites|\n",
      "|              Faasos|        Quick Bites|\n",
      "|           Chaatimes|        Quick Bites|\n",
      "|      Kitchen Garden|        Quick Bites|\n",
      "|         Kabab Magic|        Quick Bites|\n",
      "|    The Biryani Cafe|        Quick Bites|\n",
      "|        Chatar Patar|        Quick Bites|\n",
      "|         Mane Thindi|        Quick Bites|\n",
      "|Bengaluru Coffee ...|        Quick Bites|\n",
      "|         Roll N Rock|        Quick Bites|\n",
      "|                 KFC|        Quick Bites|\n",
      "+--------------------+-------------------+\n",
      "only showing top 20 rows\n",
      "\n"
     ]
    }
   ],
   "source": [
    "cafes_or_quick_bites.show()"
   ]
  },
  {
   "cell_type": "code",
   "execution_count": 213,
   "metadata": {},
   "outputs": [
    {
     "data": {
      "text/plain": [
       "5090"
      ]
     },
     "execution_count": 213,
     "metadata": {},
     "output_type": "execute_result"
    }
   ],
   "source": [
    "cafes_or_quick_bites.count()"
   ]
  },
  {
   "cell_type": "code",
   "execution_count": null,
   "metadata": {},
   "outputs": [],
   "source": []
  },
  {
   "cell_type": "code",
   "execution_count": null,
   "metadata": {},
   "outputs": [],
   "source": []
  },
  {
   "cell_type": "markdown",
   "metadata": {},
   "source": [
    "# Task 6: Count the number of restaurants that allows online orders and book table."
   ]
  },
  {
   "cell_type": "code",
   "execution_count": 219,
   "metadata": {},
   "outputs": [],
   "source": [
    "res_allows_online_and_book_table = zomato_df.filter((zomato_df.book_table=='Yes') & (zomato_df.online_order=='Yes'))\\\n",
    "                                            .select(col('name'),col('online_order'),col('book_table'))"
   ]
  },
  {
   "cell_type": "code",
   "execution_count": 223,
   "metadata": {},
   "outputs": [],
   "source": [
    "res_allows_online_and_book_table.toPandas().to_csv('data/res_allows_online_and_book_table.csv',index= False)"
   ]
  },
  {
   "cell_type": "code",
   "execution_count": 225,
   "metadata": {},
   "outputs": [
    {
     "data": {
      "text/plain": [
       "1564"
      ]
     },
     "execution_count": 225,
     "metadata": {},
     "output_type": "execute_result"
    }
   ],
   "source": [
    "res_allows_online_and_book_table.count()"
   ]
  },
  {
   "cell_type": "code",
   "execution_count": 224,
   "metadata": {},
   "outputs": [
    {
     "name": "stdout",
     "output_type": "stream",
     "text": [
      "+--------------------+------------+----------+\n",
      "|                name|online_order|book_table|\n",
      "+--------------------+------------+----------+\n",
      "|        Cafe Shuffle|         Yes|       Yes|\n",
      "|    The Coffee Shack|         Yes|       Yes|\n",
      "|            Goa 0 Km|         Yes|       Yes|\n",
      "|  Sri Udupi Food Hub|         Yes|       Yes|\n",
      "|           Patio 805|         Yes|       Yes|\n",
      "|             Grazers|         Yes|       Yes|\n",
      "| Sea Spice by 7 Star|         Yes|       Yes|\n",
      "|                Subz|         Yes|       Yes|\n",
      "|        Cafe Shuffle|         Yes|       Yes|\n",
      "|             Vinny's|         Yes|       Yes|\n",
      "|        Brew Meister|         Yes|       Yes|\n",
      "|    The Coffee Shack|         Yes|       Yes|\n",
      "| Sea Spice by 7 Star|         Yes|       Yes|\n",
      "|             Vinny's|         Yes|       Yes|\n",
      "|        Cafe Shuffle|         Yes|       Yes|\n",
      "|    The Coffee Shack|         Yes|       Yes|\n",
      "|   Deja Vu Resto Bar|         Yes|       Yes|\n",
      "|    Melt - Eden Park|         Yes|       Yes|\n",
      "|        Mudpipe Cafe|         Yes|       Yes|\n",
      "|PHEW (Play Hard E...|         Yes|       Yes|\n",
      "+--------------------+------------+----------+\n",
      "only showing top 20 rows\n",
      "\n"
     ]
    }
   ],
   "source": [
    "res_allows_online_and_book_table.show()"
   ]
  },
  {
   "cell_type": "code",
   "execution_count": 226,
   "metadata": {},
   "outputs": [
    {
     "data": {
      "text/plain": [
       "1564"
      ]
     },
     "execution_count": 226,
     "metadata": {},
     "output_type": "execute_result"
    }
   ],
   "source": [
    "res_allows_online_and_book_table.count()"
   ]
  },
  {
   "cell_type": "code",
   "execution_count": null,
   "metadata": {},
   "outputs": [],
   "source": []
  },
  {
   "cell_type": "markdown",
   "metadata": {},
   "source": [
    "# Task 7: Get the number of restaurants in each city."
   ]
  },
  {
   "cell_type": "code",
   "execution_count": 228,
   "metadata": {},
   "outputs": [],
   "source": [
    "no_of_resturnats_by_city = zomato_df.groupby('location').count()"
   ]
  },
  {
   "cell_type": "code",
   "execution_count": 231,
   "metadata": {},
   "outputs": [],
   "source": [
    "no_of_resturnats_by_city = no_of_resturnats_by_city.withColumnRenamed('count','no_of_resturants')"
   ]
  },
  {
   "cell_type": "code",
   "execution_count": 232,
   "metadata": {},
   "outputs": [],
   "source": [
    "no_of_resturnats_by_city.toPandas().to_csv('data/no_of_resturnats_by_city.csv',index = False)"
   ]
  },
  {
   "cell_type": "code",
   "execution_count": 233,
   "metadata": {},
   "outputs": [
    {
     "name": "stdout",
     "output_type": "stream",
     "text": [
      "+--------------------+----------------+\n",
      "|            location|no_of_resturants|\n",
      "+--------------------+----------------+\n",
      "|           Bellandur|             213|\n",
      "|      East Bangalore|               8|\n",
      "|      West Bangalore|               2|\n",
      "|         Indiranagar|             617|\n",
      "|                 BTM|             811|\n",
      "|        Banashankari|             149|\n",
      "|      Sahakara Nagar|               8|\n",
      "|Koramangala 7th B...|             322|\n",
      "|            JP Nagar|             437|\n",
      "|        Lavelle Road|             183|\n",
      "|Koramangala 3rd B...|             102|\n",
      "|        Kammanahalli|             125|\n",
      "|Koramangala 2nd B...|              45|\n",
      "|      St. Marks Road|             113|\n",
      "|            Majestic|               6|\n",
      "|         Sankey Road|              10|\n",
      "|ITPL Main Road, W...|              25|\n",
      "|      CV Raman Nagar|              10|\n",
      "|           Jayanagar|             527|\n",
      "|        Brigade Road|             276|\n",
      "+--------------------+----------------+\n",
      "only showing top 20 rows\n",
      "\n"
     ]
    }
   ],
   "source": [
    "no_of_resturnats_by_city.show()"
   ]
  },
  {
   "cell_type": "code",
   "execution_count": null,
   "metadata": {},
   "outputs": [],
   "source": []
  },
  {
   "cell_type": "code",
   "execution_count": null,
   "metadata": {},
   "outputs": [],
   "source": []
  },
  {
   "cell_type": "code",
   "execution_count": null,
   "metadata": {},
   "outputs": [],
   "source": []
  }
 ],
 "metadata": {
  "kernelspec": {
   "display_name": "Python 3 (ipykernel)",
   "language": "python",
   "name": "python3"
  },
  "language_info": {
   "codemirror_mode": {
    "name": "ipython",
    "version": 3
   },
   "file_extension": ".py",
   "mimetype": "text/x-python",
   "name": "python",
   "nbconvert_exporter": "python",
   "pygments_lexer": "ipython3",
   "version": "3.8.3"
  }
 },
 "nbformat": 4,
 "nbformat_minor": 4
}
